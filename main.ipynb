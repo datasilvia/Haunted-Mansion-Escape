{
 "cells": [
  {
   "cell_type": "code",
   "execution_count": 1,
   "metadata": {},
   "outputs": [
    {
     "name": "stdout",
     "output_type": "stream",
     "text": [
      "        You wake up on a couch and find yourself in a strange house with no windows which you have never been to before.\n",
      "        You don't remember why you are here and what had happened before. \n",
      "        You feel some unknown danger is approaching and you must get out of the house, NOW!\n",
      "Time left: 9 minutes and 59 seconds\n",
      "\n"
     ]
    },
    {
     "data": {
      "text/html": [
       "<img src=\"https://i.postimg.cc/bwj8Vk60/8a5a7c33-5306-4d3b-ab19-9df4d4e1ce00.jpg\" width=\"400\" height=\"300\"/>"
      ],
      "text/plain": [
       "<IPython.core.display.Image object>"
      ]
     },
     "metadata": {},
     "output_type": "display_data"
    },
    {
     "name": "stdout",
     "output_type": "stream",
     "text": [
      "You are now in game room\n"
     ]
    }
   ],
   "source": [
    "import functions\n",
    "\n",
    "functions.start_game()"
   ]
  }
 ],
 "metadata": {
  "kernelspec": {
   "display_name": "base",
   "language": "python",
   "name": "python3"
  },
  "language_info": {
   "codemirror_mode": {
    "name": "ipython",
    "version": 3
   },
   "file_extension": ".py",
   "mimetype": "text/x-python",
   "name": "python",
   "nbconvert_exporter": "python",
   "pygments_lexer": "ipython3",
   "version": "3.12.4"
  }
 },
 "nbformat": 4,
 "nbformat_minor": 2
}
